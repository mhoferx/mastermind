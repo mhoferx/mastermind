{
 "cells": [
  {
   "cell_type": "markdown",
   "metadata": {},
   "source": [
    "## Code Jar Mastermind and Sharma-Mittal Entropy \n",
    "(Matthias Hofer, Jonathan D. Nelson)"
   ]
  },
  {
   "cell_type": "code",
   "execution_count": 1,
   "metadata": {
    "collapsed": true
   },
   "outputs": [],
   "source": [
    "%matplotlib inline\n",
    "import numpy as np\n",
    "import mastermind"
   ]
  },
  {
   "cell_type": "markdown",
   "metadata": {},
   "source": [
    "Create an **agent** used to play the game (using different strategies). Set *codelength* to an integer (here: three) and specify the codejar from which the code will be drawn (here: uniform distribution -> standard version of the game); alternatively, set *NColors* to determine the number of different pegs."
   ]
  },
  {
   "cell_type": "code",
   "execution_count": 2,
   "metadata": {
    "collapsed": false
   },
   "outputs": [],
   "source": [
    "a = mastermind.Agent(codelength=3, codejar=[1,1,1,1], logging=True)"
   ]
  },
  {
   "cell_type": "markdown",
   "metadata": {},
   "source": [
    "Call one of three methods [random_play(), knuth_play(), entropy_play(t,r)] to start a new game. See the console log for detailed information about the game and each turn."
   ]
  },
  {
   "cell_type": "code",
   "execution_count": 3,
   "metadata": {
    "collapsed": false
   },
   "outputs": [
    {
     "name": "stdout",
     "output_type": "stream",
     "text": [
      "true code: [4 4 4]\n",
      "+---------+---------+\n",
      "\t --> u(best query for oder[r]=1, degree[t]=1): 2.2577\n",
      "\t --> equivalence class of best queries:\n",
      "[[3 1 4]\n",
      " [4 1 3]]\n",
      "1. guess:  [3 1 4] \t\tfeedback: {'color': 0, 'position': 1}\n",
      "\t --> u(best query for oder[r]=1, degree[t]=1): 0.6931\n",
      "\t --> equivalence class of best queries:\n",
      "[[1 2 2]\n",
      " [2 2 1]\n",
      " [2 2 3]\n",
      " [2 3 2]\n",
      " [2 4 2]\n",
      " [4 2 2]]\n",
      "2. guess:  [2 2 3] \t\tfeedback: {'color': 0, 'position': 0}\n",
      "3. guess:  [1 1 1] \t\tfeedback: {'color': 0, 'position': 0}\n",
      "4. guess:  [4 4 4] \t\tfeedback: {'color': 0, 'position': 3}\n",
      "+---------+---------+\n",
      "\n",
      "\n",
      "\n"
     ]
    },
    {
     "data": {
      "text/plain": [
       "4"
      ]
     },
     "execution_count": 3,
     "metadata": {},
     "output_type": "execute_result"
    }
   ],
   "source": [
    "a.entropy_play(r=1, t=1)"
   ]
  },
  {
   "cell_type": "markdown",
   "metadata": {},
   "source": [
    "Manual mode: create a new game instance and play different combinations. (Hidden code = 1,1,1)"
   ]
  },
  {
   "cell_type": "code",
   "execution_count": 15,
   "metadata": {
    "collapsed": false
   },
   "outputs": [
    {
     "name": "stdout",
     "output_type": "stream",
     "text": [
      "true code: [1 1 1]\n",
      "+---------+---------+\n"
     ]
    }
   ],
   "source": [
    "game = mastermind.Game(codelength=3, codejar=[10,6,4,2], logging=True)\n",
    "game.initialize(code=[1,1,1])"
   ]
  },
  {
   "cell_type": "markdown",
   "metadata": {},
   "source": [
    "Compute the feasible set and find the best queries according to eg Shannon:"
   ]
  },
  {
   "cell_type": "code",
   "execution_count": 16,
   "metadata": {
    "collapsed": false,
    "scrolled": false
   },
   "outputs": [
    {
     "name": "stdout",
     "output_type": "stream",
     "text": [
      "[[1 1 1]\n",
      " [1 1 2]\n",
      " [1 1 3]\n",
      " [1 1 4]\n",
      " [1 2 1]\n",
      " [1 2 2]\n",
      " [1 2 3]\n",
      " [1 2 4]\n",
      " [1 3 1]\n",
      " [1 3 2]\n",
      " [1 3 3]\n",
      " [1 3 4]\n",
      " [1 4 1]\n",
      " [1 4 2]\n",
      " [1 4 3]\n",
      " [1 4 4]\n",
      " [2 1 1]\n",
      " [2 1 2]\n",
      " [2 1 3]\n",
      " [2 1 4]\n",
      " [2 2 1]\n",
      " [2 2 2]\n",
      " [2 2 3]\n",
      " [2 2 4]\n",
      " [2 3 1]\n",
      " [2 3 2]\n",
      " [2 3 3]\n",
      " [2 3 4]\n",
      " [2 4 1]\n",
      " [2 4 2]\n",
      " [2 4 3]\n",
      " [2 4 4]\n",
      " [3 1 1]\n",
      " [3 1 2]\n",
      " [3 1 3]\n",
      " [3 1 4]\n",
      " [3 2 1]\n",
      " [3 2 2]\n",
      " [3 2 3]\n",
      " [3 2 4]\n",
      " [3 3 1]\n",
      " [3 3 2]\n",
      " [3 3 3]\n",
      " [3 3 4]\n",
      " [3 4 1]\n",
      " [3 4 2]\n",
      " [3 4 3]\n",
      " [3 4 4]\n",
      " [4 1 1]\n",
      " [4 1 2]\n",
      " [4 1 3]\n",
      " [4 1 4]\n",
      " [4 2 1]\n",
      " [4 2 2]\n",
      " [4 2 3]\n",
      " [4 2 4]\n",
      " [4 3 1]\n",
      " [4 3 2]\n",
      " [4 3 3]\n",
      " [4 3 4]\n",
      " [4 4 1]\n",
      " [4 4 2]\n",
      " [4 4 3]\n",
      " [4 4 4]]\n"
     ]
    }
   ],
   "source": [
    "fs = game.get_feasible_set()\n",
    "print fs"
   ]
  },
  {
   "cell_type": "code",
   "execution_count": 17,
   "metadata": {
    "collapsed": false
   },
   "outputs": [
    {
     "name": "stdout",
     "output_type": "stream",
     "text": [
      "\t --> u(best query for oder[r]=1, degree[t]=1): 1.8268\n",
      "\t --> equivalence class of best queries:\n",
      "[[1 1 3]]\n"
     ]
    }
   ],
   "source": [
    "bc_Shannon = game.best_combination(fs, t=1, r=1)"
   ]
  },
  {
   "cell_type": "markdown",
   "metadata": {},
   "source": [
    "How good is combination [1,1,3] according to other SM info gain measures? (plotted: relative reduction in entropy)"
   ]
  },
  {
   "cell_type": "code",
   "execution_count": 18,
   "metadata": {
    "collapsed": false
   },
   "outputs": [
    {
     "data": {
      "image/png": "[encoded data removed]",
      "text/plain": [
       "<matplotlib.figure.Figure at 0x111d7e850>"
      ]
     },
     "metadata": {},
     "output_type": "display_data"
    },
    {
     "data": {
      "text/plain": [
       "<matplotlib.axes._subplots.AxesSubplot at 0x111ce8c10>"
      ]
     },
     "execution_count": 18,
     "metadata": {},
     "output_type": "execute_result"
    }
   ],
   "source": [
    "_ = game.visualize_query([1,1,3], fs, ax=None)"
   ]
  },
  {
   "cell_type": "markdown",
   "metadata": {},
   "source": [
    "What's the best order = 1/2, degree = 0 combination?"
   ]
  },
  {
   "cell_type": "code",
   "execution_count": 19,
   "metadata": {
    "collapsed": false
   },
   "outputs": [
    {
     "name": "stdout",
     "output_type": "stream",
     "text": [
      "\t --> u(best query for oder[r]=0.5, degree[t]=0): 7.1709\n",
      "\t --> equivalence class of best queries:\n",
      "[[2 1 1]]\n"
     ]
    }
   ],
   "source": [
    "bc_low = game.best_combination(fs, t=0, r=0.5)"
   ]
  },
  {
   "cell_type": "code",
   "execution_count": 20,
   "metadata": {
    "collapsed": false
   },
   "outputs": [
    {
     "data": {
      "image/png": "[encoded data removed]",
      "text/plain": [
       "<matplotlib.figure.Figure at 0x111e34310>"
      ]
     },
     "metadata": {},
     "output_type": "display_data"
    }
   ],
   "source": [
    "_ = game.visualize_query([2,1,1], fs, ax=None)"
   ]
  },
  {
   "cell_type": "code",
   "execution_count": 21,
   "metadata": {
    "collapsed": false
   },
   "outputs": [
    {
     "name": "stdout",
     "output_type": "stream",
     "text": [
      "\t --> u(best query for oder[r]=32, degree[t]=32): 0.0291\n",
      "\t --> equivalence class of best queries:\n",
      "[[2 4 3]]\n"
     ]
    }
   ],
   "source": [
    "bc_high = game.best_combination(fs, t=32, r=32)"
   ]
  },
  {
   "cell_type": "code",
   "execution_count": 22,
   "metadata": {
    "collapsed": false
   },
   "outputs": [
    {
     "data": {
      "image/png": "[encoded data removed]",
      "text/plain": [
       "<matplotlib.figure.Figure at 0x111e50ed0>"
      ]
     },
     "metadata": {},
     "output_type": "display_data"
    }
   ],
   "source": [
    "_= game.visualize_query([2,4,3], fs, ax=None)"
   ]
  },
  {
   "cell_type": "code",
   "execution_count": null,
   "metadata": {
    "collapsed": true
   },
   "outputs": [],
   "source": []
  }
 ],
 "metadata": {
  "kernelspec": {
   "display_name": "Python 2",
   "language": "python",
   "name": "python2"
  },
  "language_info": {
   "codemirror_mode": {
    "name": "ipython",
    "version": 2
   },
   "file_extension": ".py",
   "mimetype": "text/x-python",
   "name": "python",
   "nbconvert_exporter": "python",
   "pygments_lexer": "ipython2",
   "version": "2.7.6"
  }
 },
 "nbformat": 4,
 "nbformat_minor": 0
}
